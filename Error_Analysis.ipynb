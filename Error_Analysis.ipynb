{
  "nbformat": 4,
  "nbformat_minor": 0,
  "metadata": {
    "colab": {
      "name": "Error_Analysis.ipynb",
      "provenance": [],
      "collapsed_sections": [
        "TjM32k00cMER",
        "3HSvDgb8cPow",
        "vQTr0bZmcRiT",
        "t6lAPYiIcV5J",
        "ulTeXpYM78ef",
        "MYgo6unEjufx",
        "hdJ7TEwcrqNh",
        "G5tdDsvw1t2s",
        "7boEDDw8tdUI",
        "p4vKHE2X1mXm",
        "Gbl4BYZe4Pa3",
        "RuE0y2Qk445Y"
      ],
      "toc_visible": true
    },
    "kernelspec": {
      "name": "python3",
      "display_name": "Python 3"
    },
    "accelerator": "GPU",
    "widgets": {
      "application/vnd.jupyter.widget-state+json": {
        "6f0339aafd654de5ab32e0f5ac615b3b": {
          "model_module": "@jupyter-widgets/controls",
          "model_name": "HBoxModel",
          "state": {
            "_view_name": "HBoxView",
            "_dom_classes": [],
            "_model_name": "HBoxModel",
            "_view_module": "@jupyter-widgets/controls",
            "_model_module_version": "1.5.0",
            "_view_count": null,
            "_view_module_version": "1.5.0",
            "box_style": "",
            "layout": "IPY_MODEL_c058865789a040b6b2bc816d99c63fed",
            "_model_module": "@jupyter-widgets/controls",
            "children": [
              "IPY_MODEL_6def524cf3754b85916fcde8def72351",
              "IPY_MODEL_df50df6056a74b0ab9fa8ec2a8c9f90c"
            ]
          }
        },
        "c058865789a040b6b2bc816d99c63fed": {
          "model_module": "@jupyter-widgets/base",
          "model_name": "LayoutModel",
          "state": {
            "_view_name": "LayoutView",
            "grid_template_rows": null,
            "right": null,
            "justify_content": null,
            "_view_module": "@jupyter-widgets/base",
            "overflow": null,
            "_model_module_version": "1.2.0",
            "_view_count": null,
            "flex_flow": null,
            "width": null,
            "min_width": null,
            "border": null,
            "align_items": null,
            "bottom": null,
            "_model_module": "@jupyter-widgets/base",
            "top": null,
            "grid_column": null,
            "overflow_y": null,
            "overflow_x": null,
            "grid_auto_flow": null,
            "grid_area": null,
            "grid_template_columns": null,
            "flex": null,
            "_model_name": "LayoutModel",
            "justify_items": null,
            "grid_row": null,
            "max_height": null,
            "align_content": null,
            "visibility": null,
            "align_self": null,
            "height": null,
            "min_height": null,
            "padding": null,
            "grid_auto_rows": null,
            "grid_gap": null,
            "max_width": null,
            "order": null,
            "_view_module_version": "1.2.0",
            "grid_template_areas": null,
            "object_position": null,
            "object_fit": null,
            "grid_auto_columns": null,
            "margin": null,
            "display": null,
            "left": null
          }
        },
        "6def524cf3754b85916fcde8def72351": {
          "model_module": "@jupyter-widgets/controls",
          "model_name": "FloatProgressModel",
          "state": {
            "_view_name": "ProgressView",
            "style": "IPY_MODEL_8a082ac9a9ae4f7aba632349cd4c9408",
            "_dom_classes": [],
            "description": "100%",
            "_model_name": "FloatProgressModel",
            "bar_style": "success",
            "max": 25019,
            "_view_module": "@jupyter-widgets/controls",
            "_model_module_version": "1.5.0",
            "value": 25019,
            "_view_count": null,
            "_view_module_version": "1.5.0",
            "orientation": "horizontal",
            "min": 0,
            "description_tooltip": null,
            "_model_module": "@jupyter-widgets/controls",
            "layout": "IPY_MODEL_599f0bdafbc9471880897d386a479fde"
          }
        },
        "df50df6056a74b0ab9fa8ec2a8c9f90c": {
          "model_module": "@jupyter-widgets/controls",
          "model_name": "HTMLModel",
          "state": {
            "_view_name": "HTMLView",
            "style": "IPY_MODEL_fa1d5a61bd6442e2ae62397e74d73b38",
            "_dom_classes": [],
            "description": "",
            "_model_name": "HTMLModel",
            "placeholder": "​",
            "_view_module": "@jupyter-widgets/controls",
            "_model_module_version": "1.5.0",
            "value": " 25019/25019 [00:04&lt;00:00, 5282.01it/s]",
            "_view_count": null,
            "_view_module_version": "1.5.0",
            "description_tooltip": null,
            "_model_module": "@jupyter-widgets/controls",
            "layout": "IPY_MODEL_fe98048beadc4c9bb82d91ce0844da24"
          }
        },
        "8a082ac9a9ae4f7aba632349cd4c9408": {
          "model_module": "@jupyter-widgets/controls",
          "model_name": "ProgressStyleModel",
          "state": {
            "_view_name": "StyleView",
            "_model_name": "ProgressStyleModel",
            "description_width": "initial",
            "_view_module": "@jupyter-widgets/base",
            "_model_module_version": "1.5.0",
            "_view_count": null,
            "_view_module_version": "1.2.0",
            "bar_color": null,
            "_model_module": "@jupyter-widgets/controls"
          }
        },
        "599f0bdafbc9471880897d386a479fde": {
          "model_module": "@jupyter-widgets/base",
          "model_name": "LayoutModel",
          "state": {
            "_view_name": "LayoutView",
            "grid_template_rows": null,
            "right": null,
            "justify_content": null,
            "_view_module": "@jupyter-widgets/base",
            "overflow": null,
            "_model_module_version": "1.2.0",
            "_view_count": null,
            "flex_flow": null,
            "width": null,
            "min_width": null,
            "border": null,
            "align_items": null,
            "bottom": null,
            "_model_module": "@jupyter-widgets/base",
            "top": null,
            "grid_column": null,
            "overflow_y": null,
            "overflow_x": null,
            "grid_auto_flow": null,
            "grid_area": null,
            "grid_template_columns": null,
            "flex": null,
            "_model_name": "LayoutModel",
            "justify_items": null,
            "grid_row": null,
            "max_height": null,
            "align_content": null,
            "visibility": null,
            "align_self": null,
            "height": null,
            "min_height": null,
            "padding": null,
            "grid_auto_rows": null,
            "grid_gap": null,
            "max_width": null,
            "order": null,
            "_view_module_version": "1.2.0",
            "grid_template_areas": null,
            "object_position": null,
            "object_fit": null,
            "grid_auto_columns": null,
            "margin": null,
            "display": null,
            "left": null
          }
        },
        "fa1d5a61bd6442e2ae62397e74d73b38": {
          "model_module": "@jupyter-widgets/controls",
          "model_name": "DescriptionStyleModel",
          "state": {
            "_view_name": "StyleView",
            "_model_name": "DescriptionStyleModel",
            "description_width": "",
            "_view_module": "@jupyter-widgets/base",
            "_model_module_version": "1.5.0",
            "_view_count": null,
            "_view_module_version": "1.2.0",
            "_model_module": "@jupyter-widgets/controls"
          }
        },
        "fe98048beadc4c9bb82d91ce0844da24": {
          "model_module": "@jupyter-widgets/base",
          "model_name": "LayoutModel",
          "state": {
            "_view_name": "LayoutView",
            "grid_template_rows": null,
            "right": null,
            "justify_content": null,
            "_view_module": "@jupyter-widgets/base",
            "overflow": null,
            "_model_module_version": "1.2.0",
            "_view_count": null,
            "flex_flow": null,
            "width": null,
            "min_width": null,
            "border": null,
            "align_items": null,
            "bottom": null,
            "_model_module": "@jupyter-widgets/base",
            "top": null,
            "grid_column": null,
            "overflow_y": null,
            "overflow_x": null,
            "grid_auto_flow": null,
            "grid_area": null,
            "grid_template_columns": null,
            "flex": null,
            "_model_name": "LayoutModel",
            "justify_items": null,
            "grid_row": null,
            "max_height": null,
            "align_content": null,
            "visibility": null,
            "align_self": null,
            "height": null,
            "min_height": null,
            "padding": null,
            "grid_auto_rows": null,
            "grid_gap": null,
            "max_width": null,
            "order": null,
            "_view_module_version": "1.2.0",
            "grid_template_areas": null,
            "object_position": null,
            "object_fit": null,
            "grid_auto_columns": null,
            "margin": null,
            "display": null,
            "left": null
          }
        },
        "40bd54d114254269810397b0ff541723": {
          "model_module": "@jupyter-widgets/controls",
          "model_name": "HBoxModel",
          "state": {
            "_view_name": "HBoxView",
            "_dom_classes": [],
            "_model_name": "HBoxModel",
            "_view_module": "@jupyter-widgets/controls",
            "_model_module_version": "1.5.0",
            "_view_count": null,
            "_view_module_version": "1.5.0",
            "box_style": "",
            "layout": "IPY_MODEL_2974a98a9a7642d985f64a77e306d328",
            "_model_module": "@jupyter-widgets/controls",
            "children": [
              "IPY_MODEL_18ad9d8e55ff4a97bad5501744a837e6",
              "IPY_MODEL_1d62cc4872634e6a8ec49ed6fe1da6ba"
            ]
          }
        },
        "2974a98a9a7642d985f64a77e306d328": {
          "model_module": "@jupyter-widgets/base",
          "model_name": "LayoutModel",
          "state": {
            "_view_name": "LayoutView",
            "grid_template_rows": null,
            "right": null,
            "justify_content": null,
            "_view_module": "@jupyter-widgets/base",
            "overflow": null,
            "_model_module_version": "1.2.0",
            "_view_count": null,
            "flex_flow": null,
            "width": null,
            "min_width": null,
            "border": null,
            "align_items": null,
            "bottom": null,
            "_model_module": "@jupyter-widgets/base",
            "top": null,
            "grid_column": null,
            "overflow_y": null,
            "overflow_x": null,
            "grid_auto_flow": null,
            "grid_area": null,
            "grid_template_columns": null,
            "flex": null,
            "_model_name": "LayoutModel",
            "justify_items": null,
            "grid_row": null,
            "max_height": null,
            "align_content": null,
            "visibility": null,
            "align_self": null,
            "height": null,
            "min_height": null,
            "padding": null,
            "grid_auto_rows": null,
            "grid_gap": null,
            "max_width": null,
            "order": null,
            "_view_module_version": "1.2.0",
            "grid_template_areas": null,
            "object_position": null,
            "object_fit": null,
            "grid_auto_columns": null,
            "margin": null,
            "display": null,
            "left": null
          }
        },
        "18ad9d8e55ff4a97bad5501744a837e6": {
          "model_module": "@jupyter-widgets/controls",
          "model_name": "FloatProgressModel",
          "state": {
            "_view_name": "ProgressView",
            "style": "IPY_MODEL_72735e67c88c4e12bd9a5da14fc15888",
            "_dom_classes": [],
            "description": "100%",
            "_model_name": "FloatProgressModel",
            "bar_style": "success",
            "max": 25019,
            "_view_module": "@jupyter-widgets/controls",
            "_model_module_version": "1.5.0",
            "value": 25019,
            "_view_count": null,
            "_view_module_version": "1.5.0",
            "orientation": "horizontal",
            "min": 0,
            "description_tooltip": null,
            "_model_module": "@jupyter-widgets/controls",
            "layout": "IPY_MODEL_2c04f8d3ca2d4c03bc875130fb3b1edb"
          }
        },
        "1d62cc4872634e6a8ec49ed6fe1da6ba": {
          "model_module": "@jupyter-widgets/controls",
          "model_name": "HTMLModel",
          "state": {
            "_view_name": "HTMLView",
            "style": "IPY_MODEL_8b39addda0bf4d5daba1cb57df8bf69a",
            "_dom_classes": [],
            "description": "",
            "_model_name": "HTMLModel",
            "placeholder": "​",
            "_view_module": "@jupyter-widgets/controls",
            "_model_module_version": "1.5.0",
            "value": " 25019/25019 [00:04&lt;00:00, 5359.03it/s]",
            "_view_count": null,
            "_view_module_version": "1.5.0",
            "description_tooltip": null,
            "_model_module": "@jupyter-widgets/controls",
            "layout": "IPY_MODEL_a4f8b265148c4b3c988b7a22c298db57"
          }
        },
        "72735e67c88c4e12bd9a5da14fc15888": {
          "model_module": "@jupyter-widgets/controls",
          "model_name": "ProgressStyleModel",
          "state": {
            "_view_name": "StyleView",
            "_model_name": "ProgressStyleModel",
            "description_width": "initial",
            "_view_module": "@jupyter-widgets/base",
            "_model_module_version": "1.5.0",
            "_view_count": null,
            "_view_module_version": "1.2.0",
            "bar_color": null,
            "_model_module": "@jupyter-widgets/controls"
          }
        },
        "2c04f8d3ca2d4c03bc875130fb3b1edb": {
          "model_module": "@jupyter-widgets/base",
          "model_name": "LayoutModel",
          "state": {
            "_view_name": "LayoutView",
            "grid_template_rows": null,
            "right": null,
            "justify_content": null,
            "_view_module": "@jupyter-widgets/base",
            "overflow": null,
            "_model_module_version": "1.2.0",
            "_view_count": null,
            "flex_flow": null,
            "width": null,
            "min_width": null,
            "border": null,
            "align_items": null,
            "bottom": null,
            "_model_module": "@jupyter-widgets/base",
            "top": null,
            "grid_column": null,
            "overflow_y": null,
            "overflow_x": null,
            "grid_auto_flow": null,
            "grid_area": null,
            "grid_template_columns": null,
            "flex": null,
            "_model_name": "LayoutModel",
            "justify_items": null,
            "grid_row": null,
            "max_height": null,
            "align_content": null,
            "visibility": null,
            "align_self": null,
            "height": null,
            "min_height": null,
            "padding": null,
            "grid_auto_rows": null,
            "grid_gap": null,
            "max_width": null,
            "order": null,
            "_view_module_version": "1.2.0",
            "grid_template_areas": null,
            "object_position": null,
            "object_fit": null,
            "grid_auto_columns": null,
            "margin": null,
            "display": null,
            "left": null
          }
        },
        "8b39addda0bf4d5daba1cb57df8bf69a": {
          "model_module": "@jupyter-widgets/controls",
          "model_name": "DescriptionStyleModel",
          "state": {
            "_view_name": "StyleView",
            "_model_name": "DescriptionStyleModel",
            "description_width": "",
            "_view_module": "@jupyter-widgets/base",
            "_model_module_version": "1.5.0",
            "_view_count": null,
            "_view_module_version": "1.2.0",
            "_model_module": "@jupyter-widgets/controls"
          }
        },
        "a4f8b265148c4b3c988b7a22c298db57": {
          "model_module": "@jupyter-widgets/base",
          "model_name": "LayoutModel",
          "state": {
            "_view_name": "LayoutView",
            "grid_template_rows": null,
            "right": null,
            "justify_content": null,
            "_view_module": "@jupyter-widgets/base",
            "overflow": null,
            "_model_module_version": "1.2.0",
            "_view_count": null,
            "flex_flow": null,
            "width": null,
            "min_width": null,
            "border": null,
            "align_items": null,
            "bottom": null,
            "_model_module": "@jupyter-widgets/base",
            "top": null,
            "grid_column": null,
            "overflow_y": null,
            "overflow_x": null,
            "grid_auto_flow": null,
            "grid_area": null,
            "grid_template_columns": null,
            "flex": null,
            "_model_name": "LayoutModel",
            "justify_items": null,
            "grid_row": null,
            "max_height": null,
            "align_content": null,
            "visibility": null,
            "align_self": null,
            "height": null,
            "min_height": null,
            "padding": null,
            "grid_auto_rows": null,
            "grid_gap": null,
            "max_width": null,
            "order": null,
            "_view_module_version": "1.2.0",
            "grid_template_areas": null,
            "object_position": null,
            "object_fit": null,
            "grid_auto_columns": null,
            "margin": null,
            "display": null,
            "left": null
          }
        },
        "95a0a52a37e04e5fafb0271958c456c8": {
          "model_module": "@jupyter-widgets/controls",
          "model_name": "HBoxModel",
          "state": {
            "_view_name": "HBoxView",
            "_dom_classes": [],
            "_model_name": "HBoxModel",
            "_view_module": "@jupyter-widgets/controls",
            "_model_module_version": "1.5.0",
            "_view_count": null,
            "_view_module_version": "1.5.0",
            "box_style": "",
            "layout": "IPY_MODEL_a538c379ffc84794a8d3d03f8929ed59",
            "_model_module": "@jupyter-widgets/controls",
            "children": [
              "IPY_MODEL_68d8eb97b73c4827a37f87c076f1e450",
              "IPY_MODEL_36450e95c8a445fab88c9ef44ea8b7d4"
            ]
          }
        },
        "a538c379ffc84794a8d3d03f8929ed59": {
          "model_module": "@jupyter-widgets/base",
          "model_name": "LayoutModel",
          "state": {
            "_view_name": "LayoutView",
            "grid_template_rows": null,
            "right": null,
            "justify_content": null,
            "_view_module": "@jupyter-widgets/base",
            "overflow": null,
            "_model_module_version": "1.2.0",
            "_view_count": null,
            "flex_flow": null,
            "width": null,
            "min_width": null,
            "border": null,
            "align_items": null,
            "bottom": null,
            "_model_module": "@jupyter-widgets/base",
            "top": null,
            "grid_column": null,
            "overflow_y": null,
            "overflow_x": null,
            "grid_auto_flow": null,
            "grid_area": null,
            "grid_template_columns": null,
            "flex": null,
            "_model_name": "LayoutModel",
            "justify_items": null,
            "grid_row": null,
            "max_height": null,
            "align_content": null,
            "visibility": null,
            "align_self": null,
            "height": null,
            "min_height": null,
            "padding": null,
            "grid_auto_rows": null,
            "grid_gap": null,
            "max_width": null,
            "order": null,
            "_view_module_version": "1.2.0",
            "grid_template_areas": null,
            "object_position": null,
            "object_fit": null,
            "grid_auto_columns": null,
            "margin": null,
            "display": null,
            "left": null
          }
        },
        "68d8eb97b73c4827a37f87c076f1e450": {
          "model_module": "@jupyter-widgets/controls",
          "model_name": "FloatProgressModel",
          "state": {
            "_view_name": "ProgressView",
            "style": "IPY_MODEL_15139ab91fba4d8b99ab7fe738996704",
            "_dom_classes": [],
            "description": "",
            "_model_name": "FloatProgressModel",
            "bar_style": "success",
            "max": 1,
            "_view_module": "@jupyter-widgets/controls",
            "_model_module_version": "1.5.0",
            "value": 1,
            "_view_count": null,
            "_view_module_version": "1.5.0",
            "orientation": "horizontal",
            "min": 0,
            "description_tooltip": null,
            "_model_module": "@jupyter-widgets/controls",
            "layout": "IPY_MODEL_ec90a8233a1b4b29b621b7eb4d23e092"
          }
        },
        "36450e95c8a445fab88c9ef44ea8b7d4": {
          "model_module": "@jupyter-widgets/controls",
          "model_name": "HTMLModel",
          "state": {
            "_view_name": "HTMLView",
            "style": "IPY_MODEL_822449a3104d4e0da0ee72a44cc0fef3",
            "_dom_classes": [],
            "description": "",
            "_model_name": "HTMLModel",
            "placeholder": "​",
            "_view_module": "@jupyter-widgets/controls",
            "_model_module_version": "1.5.0",
            "value": " 25019/? [00:12&lt;00:00, 1973.01it/s]",
            "_view_count": null,
            "_view_module_version": "1.5.0",
            "description_tooltip": null,
            "_model_module": "@jupyter-widgets/controls",
            "layout": "IPY_MODEL_52aca573072d44ba9cc2e7a84c6d8a61"
          }
        },
        "15139ab91fba4d8b99ab7fe738996704": {
          "model_module": "@jupyter-widgets/controls",
          "model_name": "ProgressStyleModel",
          "state": {
            "_view_name": "StyleView",
            "_model_name": "ProgressStyleModel",
            "description_width": "initial",
            "_view_module": "@jupyter-widgets/base",
            "_model_module_version": "1.5.0",
            "_view_count": null,
            "_view_module_version": "1.2.0",
            "bar_color": null,
            "_model_module": "@jupyter-widgets/controls"
          }
        },
        "ec90a8233a1b4b29b621b7eb4d23e092": {
          "model_module": "@jupyter-widgets/base",
          "model_name": "LayoutModel",
          "state": {
            "_view_name": "LayoutView",
            "grid_template_rows": null,
            "right": null,
            "justify_content": null,
            "_view_module": "@jupyter-widgets/base",
            "overflow": null,
            "_model_module_version": "1.2.0",
            "_view_count": null,
            "flex_flow": null,
            "width": null,
            "min_width": null,
            "border": null,
            "align_items": null,
            "bottom": null,
            "_model_module": "@jupyter-widgets/base",
            "top": null,
            "grid_column": null,
            "overflow_y": null,
            "overflow_x": null,
            "grid_auto_flow": null,
            "grid_area": null,
            "grid_template_columns": null,
            "flex": null,
            "_model_name": "LayoutModel",
            "justify_items": null,
            "grid_row": null,
            "max_height": null,
            "align_content": null,
            "visibility": null,
            "align_self": null,
            "height": null,
            "min_height": null,
            "padding": null,
            "grid_auto_rows": null,
            "grid_gap": null,
            "max_width": null,
            "order": null,
            "_view_module_version": "1.2.0",
            "grid_template_areas": null,
            "object_position": null,
            "object_fit": null,
            "grid_auto_columns": null,
            "margin": null,
            "display": null,
            "left": null
          }
        },
        "822449a3104d4e0da0ee72a44cc0fef3": {
          "model_module": "@jupyter-widgets/controls",
          "model_name": "DescriptionStyleModel",
          "state": {
            "_view_name": "StyleView",
            "_model_name": "DescriptionStyleModel",
            "description_width": "",
            "_view_module": "@jupyter-widgets/base",
            "_model_module_version": "1.5.0",
            "_view_count": null,
            "_view_module_version": "1.2.0",
            "_model_module": "@jupyter-widgets/controls"
          }
        },
        "52aca573072d44ba9cc2e7a84c6d8a61": {
          "model_module": "@jupyter-widgets/base",
          "model_name": "LayoutModel",
          "state": {
            "_view_name": "LayoutView",
            "grid_template_rows": null,
            "right": null,
            "justify_content": null,
            "_view_module": "@jupyter-widgets/base",
            "overflow": null,
            "_model_module_version": "1.2.0",
            "_view_count": null,
            "flex_flow": null,
            "width": null,
            "min_width": null,
            "border": null,
            "align_items": null,
            "bottom": null,
            "_model_module": "@jupyter-widgets/base",
            "top": null,
            "grid_column": null,
            "overflow_y": null,
            "overflow_x": null,
            "grid_auto_flow": null,
            "grid_area": null,
            "grid_template_columns": null,
            "flex": null,
            "_model_name": "LayoutModel",
            "justify_items": null,
            "grid_row": null,
            "max_height": null,
            "align_content": null,
            "visibility": null,
            "align_self": null,
            "height": null,
            "min_height": null,
            "padding": null,
            "grid_auto_rows": null,
            "grid_gap": null,
            "max_width": null,
            "order": null,
            "_view_module_version": "1.2.0",
            "grid_template_areas": null,
            "object_position": null,
            "object_fit": null,
            "grid_auto_columns": null,
            "margin": null,
            "display": null,
            "left": null
          }
        }
      }
    }
  },
  "cells": [
    {
      "cell_type": "code",
      "metadata": {
        "id": "V-XcTI9jLdR0",
        "colab_type": "code",
        "colab": {
          "base_uri": "https://localhost:8080/",
          "height": 33
        },
        "outputId": "8a3623a0-8a8b-48ec-e6ed-3ead7d8d4e9b"
      },
      "source": [
        "from google.colab import drive\n",
        "drive.mount('/content/drive')"
      ],
      "execution_count": 1,
      "outputs": [
        {
          "output_type": "stream",
          "text": [
            "Mounted at /content/drive\n"
          ],
          "name": "stdout"
        }
      ]
    },
    {
      "cell_type": "markdown",
      "metadata": {
        "id": "vt3vnEsWHszq",
        "colab_type": "text"
      },
      "source": [
        "Importing Libraries"
      ]
    },
    {
      "cell_type": "code",
      "metadata": {
        "id": "ABB6Uv-hpp1p",
        "colab_type": "code",
        "colab": {
          "base_uri": "https://localhost:8080/",
          "height": 33
        },
        "outputId": "1b53e175-b70a-47c6-f2af-be99cea0d701"
      },
      "source": [
        "import warnings\n",
        "warnings.filterwarnings(\"ignore\")\n",
        "\n",
        "import numpy as np\n",
        "import pandas as pd\n",
        "import gzip\n",
        "import pickle\n",
        "\n",
        "import os\n",
        "from tqdm.notebook import tqdm\n",
        "from matplotlib import pyplot as plt\n",
        "import re\n",
        "import datetime\n",
        "import pickle\n",
        "import tensorflow as tf\n",
        "\n",
        "from tensorflow.keras.callbacks import ModelCheckpoint\n",
        "%load_ext tensorboard\n",
        "from gensim.models import Word2Vec\n",
        "from gensim.models import FastText\n",
        "from tensorflow.keras.preprocessing.text import Tokenizer\n",
        "from tensorflow.keras.preprocessing.sequence import pad_sequences\n",
        "import pickle\n",
        "\n",
        "from tensorflow.keras.layers import Input, Softmax, RNN, Dense, Embedding, GRU,LSTM,concatenate,Flatten,GlobalMaxPooling1D,GlobalAveragePooling1D\n",
        "from tensorflow.keras.models import Model\n",
        "import nltk.translate.bleu_score as bleu\n",
        "\n",
        "tf.compat.v1.enable_eager_execution()\n",
        "\n",
        "tf.executing_eagerly()"
      ],
      "execution_count": 1,
      "outputs": [
        {
          "output_type": "execute_result",
          "data": {
            "text/plain": [
              "True"
            ]
          },
          "metadata": {
            "tags": []
          },
          "execution_count": 1
        }
      ]
    },
    {
      "cell_type": "markdown",
      "metadata": {
        "id": "aIFPYLjRHxkF",
        "colab_type": "text"
      },
      "source": [
        "Fixing Random seed"
      ]
    },
    {
      "cell_type": "code",
      "metadata": {
        "id": "0RVDikDRqGdG",
        "colab_type": "code",
        "colab": {}
      },
      "source": [
        "import random as rn\n",
        "\n",
        "##fixing numpy RS\n",
        "np.random.seed(1)\n",
        "\n",
        "##fixing tensorflow RS\n",
        "tf.random.set_seed(2)\n",
        "#tf.set_random_seed(2)\n",
        "\n",
        "##python RS\n",
        "rn.seed(3)"
      ],
      "execution_count": 2,
      "outputs": []
    },
    {
      "cell_type": "markdown",
      "metadata": {
        "id": "ZlFsf8UTTiq-",
        "colab_type": "text"
      },
      "source": [
        "## Seq2Seq with Attention Architecture"
      ]
    },
    {
      "cell_type": "markdown",
      "metadata": {
        "id": "TjM32k00cMER",
        "colab_type": "text"
      },
      "source": [
        "### Encoder"
      ]
    },
    {
      "cell_type": "code",
      "metadata": {
        "id": "zf25Y1b5Th9I",
        "colab_type": "code",
        "colab": {}
      },
      "source": [
        "class Encoder(tf.keras.layers.Layer):\n",
        "    def __init__(self, vocab_size,text_vocab_sizes, embedding_dim, input_length,text_features_len, enc_units ,emb_weights,text_features_emb_weights,emb_trainable):\n",
        "        super().__init__()\n",
        "        self.vocab_size = vocab_size\n",
        "        self.embedding_dim = embedding_dim\n",
        "        self.input_length = input_length\n",
        "        self.text_features_len = text_features_len\n",
        "        self.enc_units= enc_units\n",
        "        self.gru_output = 0\n",
        "        self.state_h=0\n",
        "        self.state_c=0\n",
        "        self.text_vocab_sizes = text_vocab_sizes\n",
        "        self.emb_weights = emb_weights\n",
        "        self.text_emb_weights = text_features_emb_weights\n",
        "        self.emb_trainable = emb_trainable\n",
        "\n",
        "    def build(self, input_shape):\n",
        "\n",
        "        self.embedding = Embedding(input_dim=self.vocab_size, output_dim=self.embedding_dim, input_length=self.input_length,\n",
        "                                   mask_zero=True,weights = self.emb_weights,trainable = self.emb_trainable,\n",
        "                                   name=\"embedding_layer_question\")\n",
        "        \n",
        "        self.embedding1 = Embedding(input_dim=self.text_vocab_sizes[0], output_dim=self.embedding_dim, input_length=self.text_features_len[0],\n",
        "                                   weights = self.text_emb_weights[0],trainable = self.emb_trainable,name=\"embedding_layer_textfeature1\")\n",
        "        \n",
        "        self.embedding2 = Embedding(input_dim=self.text_vocab_sizes[1], output_dim=self.embedding_dim, input_length=self.text_features_len[1],\n",
        "                                   weights = self.text_emb_weights[1],trainable = self.emb_trainable,name=\"embedding_layer_textfeature2\")\n",
        "\n",
        "        self.embedding3 = Embedding(input_dim=self.text_vocab_sizes[2], output_dim=self.embedding_dim, input_length=self.text_features_len[2],\n",
        "                                   weights = self.text_emb_weights[2],trainable = self.emb_trainable,name=\"embedding_layer_textfeature3\")\n",
        "        \n",
        "        self.embedding4 = Embedding(input_dim=self.text_vocab_sizes[3], output_dim=self.embedding_dim, input_length=self.text_features_len[3],\n",
        "                                   weights = self.text_emb_weights[3],trainable = self.emb_trainable,name=\"embedding_layer_textfeature4\")\n",
        "        \n",
        "        self.gru = GRU(self.enc_units, return_state=True, return_sequences=True, name=\"Encoder_GRU_question\")\n",
        "\n",
        "        self.maxpool = GlobalMaxPooling1D()\n",
        "        self.averagepool  = GlobalAveragePooling1D()\n",
        "        self.dense1 = Dense(self.enc_units)\n",
        "        self.dense2 = Dense(self.enc_units)\n",
        "        \n",
        "    def call(self, input ,text_features ,other_features ,mask):\n",
        "\n",
        "        #print(\"=\"*20, \"ENCODER\", \"=\"*20,\"\\n\")\n",
        "        #print(\"ENCODER ==> INPUT SEQUENCES SHAPE :\",input_sentences.shape)\n",
        "        try:\n",
        "            input = self.embedding(input)\n",
        "            mask = input._keras_mask\n",
        "            text_features[0] = self.embedding1(text_features[0])\n",
        "            text_features[1] = self.embedding2(text_features[1])\n",
        "            text_features[2] = self.embedding3(text_features[2])\n",
        "            text_features[3] = self.embedding4(text_features[3])\n",
        "        except:\n",
        "            pass\n",
        "\n",
        "\n",
        "        #print(\"ENCODER ==>MASK SHAPE\",mask.shape)\n",
        "\n",
        "\n",
        "        #print(\"ENCODER ==> AFTER EMBEDDING THE INPUT SHAPE :\",input_embedd.shape)\n",
        "\n",
        "        #self.lstm_output, self.state_h,self.state_c = self.lstm(input_embedd,mask=mask)\n",
        "        self.gru_output, self.state_h = self.gru(input,mask=mask)\n",
        "        self.state_c = None\n",
        "\n",
        "        #print(\"ENCODER  ==> GRU HIDDEN STATE SHAPE\",self.state_h.shape)\n",
        "        #print(\"ENCODER  ==> GRU OUTPUT SHAPE\",self.lstm_output.shape)\n",
        "\n",
        "\n",
        "        #print(\"embedd1 \",embedd1.shape)\n",
        "        output11 = self.maxpool(text_features[0])\n",
        "        output12  = self.averagepool(text_features[0])\n",
        "        output1 = concatenate([output11,output12])\n",
        "        #print(\"output1 \",output1.shape)\n",
        "\n",
        "        #print(\"embedd2 \",embedd2.shape)\n",
        "        output21= self.maxpool(text_features[1])\n",
        "        output22  = self.averagepool(text_features[1])\n",
        "        output2 = concatenate([output21,output22])\n",
        "        #print(\"output2 \",output2.shape)\n",
        "\n",
        "        #print(\"embedd3 \",embedd3.shape)\n",
        "        output31= self.maxpool(text_features[2])\n",
        "        output32  = self.averagepool(text_features[2])\n",
        "        output3 = concatenate([output31,output32])\n",
        "        #print(\"output3 \",output3.shape)\n",
        " \n",
        "\n",
        "        #print(\"embedd4 \",embedd4.shape)\n",
        "        output41= self.maxpool(text_features[3])\n",
        "        output42  = self.averagepool(text_features[3])\n",
        "        output4 = concatenate([output41,output42])\n",
        "        #print(\"output4 \",output4.shape)\n",
        "        \n",
        "\n",
        "        output5 = self.dense1(other_features)\n",
        "        #print(\"dense \",output5.shape)\n",
        "        \n",
        "        #Concatenating all feature outputs and question lstm output.\n",
        "        concat = concatenate([output1, output2,output3,output4,output5,self.state_h],axis=1)\n",
        "        #print(\"concat_layer\",concat.shape)\n",
        "\n",
        "        self.state_h = self.dense2(concat)\n",
        "        #print(\"dense \",self.state_h)'''\n",
        "\n",
        "\n",
        "        #print(\"-\"*27)\n",
        "        #print(\"ENCODER ==> OUTPUT SHAPE\",self.lstm_output.shape)\n",
        "        #print(\"ENCODER ==> HIDDEN STATE SHAPE\",self.state_h.shape)\n",
        "        #print(\"ENCODER ==> CELL STATE SHAPE\", self.state_c.shape)\n",
        "\n",
        "        return self.gru_output,self.state_h,self.state_c\n",
        "        \n",
        "    def get_states(self):\n",
        "        return self.state_h,self.state_c"
      ],
      "execution_count": 3,
      "outputs": []
    },
    {
      "cell_type": "markdown",
      "metadata": {
        "id": "3HSvDgb8cPow",
        "colab_type": "text"
      },
      "source": [
        "### Attention"
      ]
    },
    {
      "cell_type": "code",
      "metadata": {
        "id": "6NapuI7IcIbu",
        "colab_type": "code",
        "colab": {}
      },
      "source": [
        "class Attention(tf.keras.layers.Layer):\n",
        "    def __init__(self, score_type,att_units):\n",
        "        super(Attention, self).__init__()\n",
        "        self.score_type=score_type\n",
        "        self.att_units=att_units\n",
        "        \n",
        "    def build(self,input_shape):\n",
        "        if self.score_type=='dot':\n",
        "            pass\n",
        "        \n",
        "        elif self.score_type=='general':\n",
        "            self.dense = Dense(self.att_units)\n",
        "            \n",
        "        elif self.score_type=='concat':\n",
        "            self.dense_1 = Dense(self.att_units)\n",
        "            self.dense_2 = Dense(self.att_units)\n",
        "            self.output_layer = Dense(1)\n",
        "            \n",
        "        \n",
        "    def call(self, state_h, encoder_output):\n",
        "\n",
        "        # state shape == (batch_size, hidden size)\n",
        "        # state_with_time_axis shape == (batch_size, 1, hidden size)\n",
        "        # context_vector shape == (batch_size, max_len, hidden size)\n",
        "        # we are doing this to broadcast addition along the time axis to calculate the score\n",
        "        state_with_time_axis = tf.expand_dims(state_h, 1)\n",
        "\n",
        "        if self.score_type=='dot':\n",
        "            score=tf.matmul(encoder_output,state_with_time_axis, transpose_b=True)\n",
        "            #print(\"ATTENTION ==> DOT_SCORE SHAPE\",score.shape)\n",
        "\n",
        "        elif self.score_type=='general':\n",
        "            layer = self.dense (encoder_output)\n",
        "            score = tf.matmul (layer,state_with_time_axis, transpose_b=True)\n",
        "            #print(\"ATTENTION ==> GENERAL_SCORE SHAPE\",score.shape)\n",
        "\n",
        "        elif self.score_type=='concat':\n",
        "            # score shape == (batch_size, max_length, 1)\n",
        "            # we get 1 at the last axis because we are applying score to self.output_layer\n",
        "            # the shape of the tensor before applying self.output_layer is (batch_size, max_length, units)\n",
        "            layer_1 = self.dense_1 (state_with_time_axis)\n",
        "            layer_2 = self.dense_2 (encoder_output)\n",
        "            concat = layer_1 + layer_2\n",
        "            score=self.output_layer(tf.nn.tanh(concat)) \n",
        "            #print(\"ATTENTION ==> CONCAT_SCORE SHAPE\",score.shape)\n",
        "\n",
        "    \n",
        "        #attention_weights shape == (batch_size, max_length, 1)\n",
        "        attention_weights = tf.nn.softmax(score, axis=1)\n",
        "        \n",
        "        \n",
        "        #context_vector shape after sum == (batch_size, hidden_size)\n",
        "        context_vector = attention_weights * encoder_output\n",
        "        context_vector = tf.reduce_sum(context_vector, axis=1)\n",
        "\n",
        "\n",
        "\n",
        "        return context_vector, attention_weights"
      ],
      "execution_count": 4,
      "outputs": []
    },
    {
      "cell_type": "markdown",
      "metadata": {
        "id": "vQTr0bZmcRiT",
        "colab_type": "text"
      },
      "source": [
        "### One-Step Decoder"
      ]
    },
    {
      "cell_type": "code",
      "metadata": {
        "id": "JfYjRzYIanO3",
        "colab_type": "code",
        "colab": {}
      },
      "source": [
        "class One_Step_Decoder(tf.keras.layers.Layer):\n",
        "    def __init__(self, vocab_size, embedding_dim, input_length, dec_units ,score_type ,att_units,emb_weights,emb_trainable):\n",
        "        super().__init__()\n",
        "        self.vocab_size = vocab_size\n",
        "        self.embedding_dim = embedding_dim\n",
        "        self.emb_weights = emb_weights\n",
        "        self.emb_trainable = emb_trainable\n",
        "        self.dec_units = dec_units\n",
        "        self.input_length = input_length\n",
        "        self.score_type= score_type\n",
        "        self.att_units= att_units\n",
        "\n",
        "    def build(self, input_shape):\n",
        "        self.embedding = Embedding(input_dim=self.vocab_size, output_dim=self.embedding_dim, input_length=input_shape,\n",
        "                                   mask_zero=True,weights = self.emb_weights,trainable = self.emb_trainable ,name=\"embedding_layer_decoder\")\n",
        "        \n",
        "        self.gru = GRU(self.dec_units, return_sequences=True, return_state=True, name=\"Decoder_LSTM\")\n",
        "\n",
        "        self.attention=Attention(self.score_type,self.att_units)\n",
        "\n",
        "        self.dense   = Dense(self.vocab_size, activation='softmax')\n",
        "\n",
        "        \n",
        "    def call(self, target_sentences , encoder_output, state_h, state_c ):\n",
        "        \n",
        "        context_vector , attention_weights = self.attention (state_h, encoder_output)\n",
        "\n",
        "        try:\n",
        "            target_sentences = self.embedding(target_sentences)\n",
        "            mask = target_sentences._keras_mask\n",
        "        except:\n",
        "            pass\n",
        "        dec_input = tf.concat([tf.expand_dims(context_vector, 1), target_sentences], axis=-1)\n",
        "\n",
        "        #lstm_output, state_h, state_c = self.lstm(dec_input,mask=mask, initial_state=[state_h, state_c])\n",
        "        gru_output, state_h= self.gru(dec_input,mask=mask, initial_state=[state_h])\n",
        "        state_c = None\n",
        "\n",
        "        gru_output = tf.reshape(gru_output, (-1, gru_output.shape[2]))\n",
        "        output = self.dense(gru_output)\n",
        "\n",
        "        return output, state_h, state_c, attention_weights, context_vector"
      ],
      "execution_count": 5,
      "outputs": []
    },
    {
      "cell_type": "markdown",
      "metadata": {
        "id": "t6lAPYiIcV5J",
        "colab_type": "text"
      },
      "source": [
        "### Decoder"
      ]
    },
    {
      "cell_type": "code",
      "metadata": {
        "id": "wInHpGwVdqkV",
        "colab_type": "code",
        "colab": {}
      },
      "source": [
        "class Decoder(tf.keras.layers.Layer):\n",
        "    def __init__(self, vocab_size, embedding_dim, input_length, dec_units ,score_type ,att_units ,emb_weights,emb_trainable):\n",
        "        super().__init__()\n",
        "        \n",
        "        self.onestepdecoder = One_Step_Decoder(vocab_size, embedding_dim, input_length, \n",
        "                                               dec_units ,score_type ,att_units,emb_weights,emb_trainable)        \n",
        "        #self.targ_lang=tokenizer\n",
        "\n",
        "        \n",
        "    def call(self, target_sentences,encoder_output, state_h, state_c  ):\n",
        "\n",
        "        #print(\"\\n\",\"=\"*20, \"DECODER\", \"=\"*20,\"\\n\")\n",
        "        #print(\"DECODER ==> INPUT SEQUENCES SHAPE :\",target_sentences.shape)\n",
        "        #print(\"WE ARE INITIALIZING DECODER WITH ENCODER STATES :\",state_h.shape, state_c.shape)\n",
        "        \n",
        "        #print(\"\\n\",\"=\"*20, \"ATTENTION\", \"=\"*20,\"\\n\")\n",
        "        #print(\"ATTENTION ==> INPUT SEQUENCES SHAPE :\",encoder_output.shape)\n",
        "        #print(\"ATTENTION ==> INPUT HIDDEN STATE SHAPE\",state_h.shape)\n",
        "        #print(\"-\"*27)\n",
        "\n",
        "        all_outputs=tf.TensorArray(tf.float32,size=target_sentences.shape[1], name='output_array')\n",
        "       # dec_input = target_sentences[:,0:1]\n",
        "        dec_input=tf.expand_dims(target_sentences[:,0], 1)\n",
        "        for timestep in range(1,target_sentences.shape[1]):\n",
        "\n",
        "            output,state_h, state_c, attention_weights ,context_vector = self.onestepdecoder(dec_input,\n",
        "                                                                            encoder_output,state_h, state_c)\n",
        "\n",
        "            dec_input = tf.expand_dims(target_sentences[:,timestep], 1)\n",
        "\n",
        "            all_outputs=all_outputs.write(timestep,output)\n",
        "        \n",
        "        all_outputs=tf.transpose(all_outputs.stack(), [1,0,2])\n",
        "\n",
        "        #print(\"ATTENTION ==> ATTENTION_WEIGHTS SHAPE\", attention_weights.shape)\n",
        "        #print(\"ATTENTION ==> OUTPUT SHAPE\",context_vector.shape)\n",
        "        #print(\"-\"*27)\n",
        "\n",
        "        #print(\"\\nFINAL OUTPUT SHAPE\",all_outputs.shape)\n",
        "        #print(\"=\"*50)\n",
        "\n",
        "        return all_outputs\n",
        "        \n",
        "    "
      ],
      "execution_count": 6,
      "outputs": []
    },
    {
      "cell_type": "markdown",
      "metadata": {
        "id": "ulTeXpYM78ef",
        "colab_type": "text"
      },
      "source": [
        "### Model"
      ]
    },
    {
      "cell_type": "code",
      "metadata": {
        "id": "6Nr26X1RUQLY",
        "colab_type": "code",
        "colab": {}
      },
      "source": [
        "class MyModel(Model):\n",
        "    def __init__(self, seq_len,text_features_len, vocab_sizes,text_vocab_sizes,score_type , units ,emb_weights=[None,None,None,None,None,None],emb_trainable=True):\n",
        "        super().__init__() # https://stackoverflow.com/a/27134600/4084039\n",
        "        \n",
        "        self.encoder =Encoder( vocab_sizes[0],text_vocab_sizes, 150, seq_len[0],text_features_len, units[0],emb_weights[0],emb_weights[2:],emb_trainable)\n",
        "        \n",
        "        self.decoder = Decoder(vocab_sizes[1], 150, seq_len[1], units[1],\n",
        "                              score_type , units[2], emb_weights[1],emb_trainable)\n",
        "\n",
        "    def call(self,data):\n",
        "        questions,answers = data[0],data[1]\n",
        "        text_features = [data[2],data[3],data[4],data[5]]\n",
        "        other_features = data[6]\n",
        "        ques_mask  = data[7]\n",
        "        encoder_output , encoder_h, encoder_c = self.encoder(questions,text_features,other_features,ques_mask)\n",
        "\n",
        "        #print(\"=\"*20, \"ENCODER\", \"=\"*20)\n",
        "        #print(\"-\"*27)\n",
        "        #print(\"ENCODER ==> OUTPUT SHAPE\",encoder_output.shape)\n",
        "        #print(\"ENCODER ==> HIDDEN STATE SHAPE\",encoder_h.shape)\n",
        "        #print(\"ENCODER ==> CELL STATE SHAPE\", encoder_c.shape)\n",
        "        #print(\"=\"*20, \"DECODER\", \"=\"*20)\n",
        "\n",
        "        decoder_output = self.decoder(answers,encoder_output, encoder_h, encoder_c )\n",
        "\n",
        "        #print(\"-\"*27)\n",
        "        #print(\"FINAL OUTPUT SHAPE\",decoder_output.shape)\n",
        "        #print(\"=\"*50)\n",
        "\n",
        "        return decoder_output\n"
      ],
      "execution_count": 7,
      "outputs": []
    },
    {
      "cell_type": "markdown",
      "metadata": {
        "id": "MYgo6unEjufx",
        "colab_type": "text"
      },
      "source": [
        "### Masked Loss Function "
      ]
    },
    {
      "cell_type": "code",
      "metadata": {
        "id": "t5pABdcrju5T",
        "colab_type": "code",
        "colab": {}
      },
      "source": [
        "#Reference https://udibhaskar.github.io/practical-ml/debugging%20nn/neural%20network/overfit/underfit/2020/02/03/Effective_Training_and_Debugging_of_a_Neural_Networks.html\n",
        "\n",
        "loss_function = tf.keras.losses.SparseCategoricalCrossentropy(reduction=tf.keras.losses.Reduction.NONE)\n",
        "\n",
        "def maskedLoss(y_true, y_pred):\n",
        "\n",
        "    #getting mask value\n",
        "    mask = tf.math.logical_not(tf.math.equal(y_true, 0))\n",
        "    \n",
        "    #calculating the loss\n",
        "    loss_ = loss_function (y_true, y_pred)\n",
        "    print()\n",
        "    #converting mask dtype to loss_ dtype\n",
        "    mask = tf.cast(mask, dtype=loss_.dtype)\n",
        "    \n",
        "    #applying the mask to loss\n",
        "    loss_ = loss_*mask\n",
        "    \n",
        "    #getting mean over all the values\n",
        "    loss_ = tf.reduce_sum(loss_)/tf.reduce_sum(mask)\n",
        "\n",
        "    return loss_\n",
        "    "
      ],
      "execution_count": 8,
      "outputs": []
    },
    {
      "cell_type": "markdown",
      "metadata": {
        "id": "hdJ7TEwcrqNh",
        "colab_type": "text"
      },
      "source": [
        "## Pre-Processing Functions"
      ]
    },
    {
      "cell_type": "code",
      "metadata": {
        "id": "cw0SUBx-yOLN",
        "colab_type": "code",
        "colab": {}
      },
      "source": [
        "def remove_tokens(sentence):\n",
        "    ''' Removs <start> and <end> token if present '''\n",
        "    \n",
        "    sentence = sentence.replace('<start>','')\n",
        "    sentence = sentence.replace('<end>','')\n",
        "\n",
        "    return sentence"
      ],
      "execution_count": 9,
      "outputs": []
    },
    {
      "cell_type": "code",
      "metadata": {
        "id": "8PfxIB7ErrWD",
        "colab_type": "code",
        "colab": {}
      },
      "source": [
        "def decontraction(text):\n",
        "    ''' De-contract words in sentences '''\n",
        "    \n",
        "    text = re.sub(r\"won't\", \"will not\", text)\n",
        "    text = re.sub(r\"can\\'t\", \"can not\", text)\n",
        "    text = re.sub(\"ain\\'t\", \"are not\" , text)\n",
        "    \n",
        "    text = re.sub(r\"n\\'t\", \" not\", text)\n",
        "    text = re.sub(r\"\\'re\", \" are\", text)\n",
        "    text = re.sub(r\"\\'s\", \" is\", text)\n",
        "    text = re.sub(r\"\\'d\", \" would\", text)\n",
        "    text = re.sub(r\"\\'ll\", \" will\", text)\n",
        "    text = re.sub(r\"\\'t\", \" not\", text)\n",
        "    text = re.sub(r\"\\'ve\", \" have\", text)\n",
        "    text = re.sub(r\"\\'m\", \" am\", text)\n",
        "    return text\n",
        "\n",
        "\n",
        "def preprocess_sentence(sentence , max_len , model ,add_tokens=True):\n",
        "\n",
        "    #Removes start and end token if already present\n",
        "    sentence = remove_tokens(sentence)\n",
        "\n",
        "    #Lower case conversion\n",
        "    sentence = sentence.lower()\n",
        "\n",
        "    #De-contracting words\n",
        "    sentence = decontraction(sentence)\n",
        "\n",
        "    #Adding a space between a word and the punctuation\n",
        "    sentence = re.sub(r\"([?.!,¿])\", r\" \\1 \", sentence)\n",
        "    sentence = re.sub(r'[\" \"]+', \" \", sentence)\n",
        "    \n",
        "    #Removing Special Characters\n",
        "    sentence = re.sub(r\"[^a-zA-Z0-9?.!,¿]+\", \" \", sentence)\n",
        "\n",
        "    #Removing Extra Spaces\n",
        "    sentence = re.sub(' +',' ',sentence)\n",
        "\n",
        "    #Adding Start and End tokens\n",
        "    if add_tokens == True:\n",
        "        sentence = '<start> ' + sentence + ' <end>'\n",
        "\n",
        "    # Masking and Padding data \n",
        "    sentence = sentence.split()\n",
        "    sentence  = sentence[:max_len]\n",
        "    n = len(sentence)\n",
        "    mask = [1]*len(sentence)\n",
        "    pad = [0]*( max_len- n)\n",
        "    sentence.extend(pad)\n",
        "    mask.extend([0]*len(pad))\n",
        "\n",
        "    #Create a weight matrix for words \n",
        "    embedding_weights = np.zeros((max_len, 150))\n",
        "    for i in range(n):\n",
        "        try:\n",
        "            embedding_vector = model[sentence[i]]\n",
        "            embedding_weights[i] = embedding_vector\n",
        "        except:\n",
        "            pass\n",
        "    \n",
        "    mask = np.array(mask)\n",
        "    mask = tf.not_equal(mask,0)\n",
        "\n",
        "    return embedding_weights,mask"
      ],
      "execution_count": 10,
      "outputs": []
    },
    {
      "cell_type": "code",
      "metadata": {
        "id": "kVdpLziBRxgh",
        "colab_type": "code",
        "colab": {}
      },
      "source": [
        "def preprocess_answer(sentence , max_len ,tokenizer, model ,add_tokens=True):\n",
        "\n",
        "    #Removes start and end token if already present\n",
        "    sentence = remove_tokens(sentence)\n",
        "\n",
        "    #Lower case conversion\n",
        "    sentence = sentence.lower()\n",
        "\n",
        "    #De-contracting words\n",
        "    sentence = decontraction(sentence)\n",
        "\n",
        "    #Adding a space between a word and the punctuation\n",
        "    sentence = re.sub(r\"([?.!,¿])\", r\" \\1 \", sentence)\n",
        "    sentence = re.sub(r'[\" \"]+', \" \", sentence)\n",
        "    \n",
        "    #Removing Special Characters\n",
        "    sentence = re.sub(r\"[^a-zA-Z0-9?.!,¿]+\", \" \", sentence)\n",
        "\n",
        "    #Removing Extra Spaces\n",
        "    sentence = re.sub(' +',' ',sentence)\n",
        "\n",
        "    #Adding Start and End tokens\n",
        "    if add_tokens == True:\n",
        "        sentence = '<start> ' + sentence + ' <end>'\n",
        "\n",
        "    #Tokenizing\n",
        "    sentence  = tokenizer.texts_to_sequences([sentence])[0]\n",
        "\n",
        "    #Padding\n",
        "    sentence = tf.keras.preprocessing.sequence.pad_sequences([sentence], maxlen=max_len,padding='post')[0]\n",
        "\n",
        "    return sentence"
      ],
      "execution_count": 11,
      "outputs": []
    },
    {
      "cell_type": "code",
      "metadata": {
        "id": "-Tz1S51S262-",
        "colab_type": "code",
        "colab": {}
      },
      "source": [
        "def process_other_features(other_features,encoders):\n",
        "    for i in range(4):\n",
        "        other_features[i] = encoders[i].transform([other_features[i]])[0]\n",
        "\n",
        "    price = other_features[4]\n",
        "    if not type(price)==float:\n",
        "        if not len(price.split())==1:\n",
        "            price = price.split('-')[0]\n",
        "        price = price.replace('$','')\n",
        "        other_features[4] = float(price.replace(',',''))\n",
        "\n",
        "    other_features=other_features.astype(np.float32)\n",
        "\n",
        "    return other_features\n",
        "    "
      ],
      "execution_count": 12,
      "outputs": []
    },
    {
      "cell_type": "markdown",
      "metadata": {
        "id": "G5tdDsvw1t2s",
        "colab_type": "text"
      },
      "source": [
        "## Loading Trained-Model and Data"
      ]
    },
    {
      "cell_type": "code",
      "metadata": {
        "id": "POJUM3gxfLll",
        "colab_type": "code",
        "colab": {}
      },
      "source": [
        "import pickle\n",
        "\n",
        "#Loading Label Encoders\n",
        "with open('/content/drive/My Drive/Attention/encoders.pickle', 'rb') as file:\n",
        "    encoders = pickle.load(file)\n",
        "\n",
        "#Loading Tokenizers\n",
        "with open('/content/drive/My Drive/Attention/tokenizers.pickle', 'rb') as file:\n",
        "    tokenizers = pickle.load(file)\n",
        "\n",
        "#Loading Fasttext\n",
        "with open('/content/drive/My Drive/Attention/fastext_models.pickle', 'rb') as file:\n",
        "    fastext_models = pickle.load(file)\n",
        "    \n",
        "vocab_sizes=[]\n",
        "for i in range(2):\n",
        "    vocab_size = len(tokenizers[i].word_index) + 1\n",
        "    vocab_sizes.append(vocab_size) \n",
        "\n",
        "text_vocab_sizes = []\n",
        "for i in range(2,6):\n",
        "    vocab_size = len(tokenizers[i].word_index) + 1\n",
        "    text_vocab_sizes.append(vocab_size) \n",
        "\n",
        "\n",
        "#Loading Sequence Lengths\n",
        "with open('/content/drive/My Drive/Attention/seq_len.pickle', 'rb') as file:\n",
        "    seq_lengths = pickle.load(file)\n",
        "\n",
        "text_features_seqlen = [seq_lengths[2],seq_lengths[3],seq_lengths[4],seq_lengths[5]]\n",
        "seq_len = [seq_lengths[0],seq_lengths[1]]\n",
        "\n",
        "\n",
        "with open('/content/drive/My Drive/Attention/data.pickle', 'rb') as file:\n",
        "    data = pickle.load( file)\n",
        "data.append(np.zeros((len(data[0]),1)))\n",
        "\n",
        "with open('/content/drive/My Drive/Attention/answers_train.pickle', 'rb') as file:\n",
        "    answers_train = pickle.load( file)\n",
        "\n"
      ],
      "execution_count": 13,
      "outputs": []
    },
    {
      "cell_type": "code",
      "metadata": {
        "id": "HThoFvG2NHpZ",
        "colab_type": "code",
        "colab": {}
      },
      "source": [
        "units = [128,128,128]\n",
        "\n",
        "ques_emb_weights = np.zeros((vocab_sizes[0],150))\n",
        "ans_emb_weights = np.zeros((vocab_sizes[1],150))\n",
        "\n",
        "text1_emb_weights = np.zeros((text_vocab_sizes[0],150))\n",
        "text2_emb_weights = np.zeros((text_vocab_sizes[1],150))\n",
        "text3_emb_weights = np.zeros((text_vocab_sizes[2],150))\n",
        "text4_emb_weights = np.zeros((text_vocab_sizes[3],150))\n",
        "\n",
        "emb_weights = []\n",
        "\n",
        "emb_weights = [[ques_emb_weights],[ans_emb_weights],[text1_emb_weights],\n",
        "                                                    [text2_emb_weights],\n",
        "                                                    [text3_emb_weights],\n",
        "                                                    [text4_emb_weights]]"
      ],
      "execution_count": 14,
      "outputs": []
    },
    {
      "cell_type": "code",
      "metadata": {
        "id": "OxwkM6FgfJgy",
        "colab_type": "code",
        "colab": {
          "base_uri": "https://localhost:8080/",
          "height": 66
        },
        "outputId": "525a7b73-b5ab-40e2-8780-3b997cf2f5e8"
      },
      "source": [
        "#Creating,calling model and Loading Weights\n",
        "tf.keras.backend.clear_session()\n",
        "#model  = MyModel( seq_len,text_features_seqlen, vocab_sizes,text_vocab_sizes,'concat',units)\n",
        "model  = MyModel(seq_len,text_features_seqlen,vocab_sizes,text_vocab_sizes,'concat',units,emb_weights,False)\n",
        "\n",
        "model.compile(optimizer='adam',loss=maskedLoss)\n",
        "model.fit(data,answers_train, epochs=1,batch_size=1,steps_per_epoch = 1 )\n",
        "\n",
        "model.load_weights(\"/content/drive/My Drive/Attention/Weights/weights-10-4.4619.hdf5\")\n",
        "\n",
        "del model.encoder.embedding"
      ],
      "execution_count": 15,
      "outputs": [
        {
          "output_type": "stream",
          "text": [
            "\n",
            "\n",
            "1/1 [==============================] - 0s 2ms/step - loss: 10.7285\n"
          ],
          "name": "stdout"
        }
      ]
    },
    {
      "cell_type": "code",
      "metadata": {
        "id": "twDbM5KMQQAc",
        "colab_type": "code",
        "colab": {}
      },
      "source": [
        "del emb_weights,ques_emb_weights,ans_emb_weights,text1_emb_weights,text2_emb_weights,text3_emb_weights,text4_emb_weights\n",
        "\n",
        "del data,answers_train"
      ],
      "execution_count": 16,
      "outputs": []
    },
    {
      "cell_type": "markdown",
      "metadata": {
        "id": "7boEDDw8tdUI",
        "colab_type": "text"
      },
      "source": [
        "## Evaluate"
      ]
    },
    {
      "cell_type": "code",
      "metadata": {
        "id": "GqEQyjjniUtO",
        "colab_type": "code",
        "colab": {}
      },
      "source": [
        "def calculate_perplexity(loss):\n",
        "    return tf.exp(loss).numpy()"
      ],
      "execution_count": 17,
      "outputs": []
    },
    {
      "cell_type": "code",
      "metadata": {
        "id": "3CePnMWTtdtP",
        "colab_type": "code",
        "colab": {}
      },
      "source": [
        "def evaluate(question ,text_features ,other_features,encoders,tokenizers,seq_len,text_features_seqlen,fastext_models,model):\n",
        "    \n",
        "    ques_tokenizer=tokenizers[0]\n",
        "    ans_tokenizer=tokenizers[1]\n",
        "\n",
        "    ques_seqlen=seq_len[0]\n",
        "    ans_seqlen=seq_len[1]\n",
        "    sentence = question\n",
        "\n",
        "    #Pre-processing data\n",
        "    question,mask = preprocess_sentence(question,ques_seqlen,fastext_models[0])\n",
        "    for i in range(len(text_features)):\n",
        "        text_features[i],_ = preprocess_sentence(text_features[i],text_features_seqlen[i],fastext_models[i+2],add_tokens=False)\n",
        "    other_features = process_other_features(other_features,encoders)\n",
        "\n",
        "    question = np.expand_dims(question,0)\n",
        "    \n",
        "    mask = tf.expand_dims(mask,0)\n",
        "\n",
        "    for i in range(len(text_features)):\n",
        "        text_features[i]  =  np.expand_dims(text_features[i],0)\n",
        "    other_features = np.expand_dims(other_features,0)\n",
        "\n",
        "    result = ''\n",
        "\n",
        "    #Fetching encoder output\n",
        "    enc_out , state_h, state_c = model.layers[0]( question ,text_features ,other_features ,mask )\n",
        "\n",
        "    #Initializing decoder input with <start> token\n",
        "    dec_input = tf.expand_dims([ans_tokenizer.word_index['<start>']], 0)\n",
        "\n",
        "    #Reversing Word,Index Dictionary (i.e swaping keys and values)\n",
        "    word_dict = dict(zip(ans_tokenizer.word_index.values(),ans_tokenizer.word_index.keys()))\n",
        "\n",
        "    for i in range(ans_seqlen):\n",
        "\n",
        "        predictions, state_h, state_c, attention_weights,_ = model.layers[1].onestepdecoder(dec_input,enc_out, state_h, state_c )\n",
        "\n",
        "        predicted_id = tf.argmax(predictions[0]).numpy()\n",
        "\n",
        "        if word_dict.get(predicted_id,'None') == '<end>':\n",
        "            return result\n",
        "            \n",
        "        result += word_dict.get(predicted_id,'None') + ' '\n",
        "\n",
        "        # the predicted ID is fed back into the model\n",
        "        dec_input = tf.expand_dims([predicted_id], 0)\n",
        "\n",
        "        \n",
        "    return result"
      ],
      "execution_count": 18,
      "outputs": []
    },
    {
      "cell_type": "code",
      "metadata": {
        "id": "_HuoBN-St3VJ",
        "colab_type": "code",
        "colab": {}
      },
      "source": [
        "\n",
        "import random \n",
        "def predict_answers(X,encoders,tokenizers,seq_lengths,fastext_models,model,verbose=0): \n",
        "\n",
        "    ''' Predicts replies using given model and data(X,y,encoders,tokenizers,seq_lengths)\n",
        "        Returns: Questions and Predicted Answers '''\n",
        "\n",
        "    text_columns = ['description','title','feature','brand']\n",
        "\n",
        "    seq_len = [seq_lengths[0],seq_lengths[1]]\n",
        "    text_features_seqlen = [seq_lengths[2],seq_lengths[3],seq_lengths[4],seq_lengths[5]]\n",
        "\n",
        "    pred_answers = []\n",
        "    if verbose !=0:\n",
        "        print('Predicting Answers ...')\n",
        "    for i in tqdm(range(len(X))):\n",
        "\n",
        "        #Fetching Question\n",
        "        question = X['question'].values[i]\n",
        "\n",
        "        #Fetching text features\n",
        "        text_features = []\n",
        "        for column in text_columns:\n",
        "            text_features.append(X[column].values[i])\n",
        "\n",
        "        #Fetching other features\n",
        "        other_features = (X[['questionType','answerType','category','main_cat','price']].values)[i]\n",
        "\n",
        "        #Predicted Answer\n",
        "        pred_answer = evaluate(question ,text_features ,other_features,encoders,tokenizers,seq_len,text_features_seqlen,fastext_models, model)\n",
        "        pred_answers.append(pred_answer)\n",
        "\n",
        "        if verbose ==2:\n",
        "            print(\"Question -->\",remove_tokens(question))\n",
        "            print(\"Predicted Answer --> \",pred_answer,'\\n')\n",
        "            print(\"=\"*80,'\\n')\n",
        "\n",
        "\n",
        "    return pred_answers"
      ],
      "execution_count": 55,
      "outputs": []
    },
    {
      "cell_type": "markdown",
      "metadata": {
        "id": "p4vKHE2X1mXm",
        "colab_type": "text"
      },
      "source": [
        "## Error Analysis"
      ]
    },
    {
      "cell_type": "code",
      "metadata": {
        "id": "oHebsb2VtxGw",
        "colab_type": "code",
        "colab": {}
      },
      "source": [
        "#Loading Data\n",
        "\n",
        "import pickle\n",
        "\n",
        "with open('/content/drive/My Drive/data/X_train.pickle', 'rb') as file:\n",
        "    X_train = pickle.load(file)\n",
        "\n",
        "with open('/content/drive/My Drive/data/answers_train.pickle', 'rb') as file:\n",
        "    answers_train = pickle.load(file)\n",
        "\n",
        "with open('/content/drive/My Drive/data/X_test.pickle', 'rb') as file:\n",
        "    X_test = pickle.load(file)\n",
        "\n",
        "with open('/content/drive/My Drive/data/answers_test.pickle', 'rb') as file:\n",
        "    answers_test = pickle.load(file)"
      ],
      "execution_count": 21,
      "outputs": []
    },
    {
      "cell_type": "code",
      "metadata": {
        "id": "rXXPy9Sy5otM",
        "colab_type": "code",
        "colab": {}
      },
      "source": [
        "try :\n",
        "    with open('/content/drive/My Drive/Attention/pred_answers.pickle', 'rb') as file:\n",
        "        pred_answers = pickle.load(file)\n",
        "except:\n",
        "  \n",
        "    pred_answers = predict_answers(X_test,encoders,tokenizers,seq_lengths,fastext_models,model)\n",
        "    with open('/content/drive/My Drive/Attention/pred_answers.pickle', 'wb') as file:\n",
        "        pickle.dump(pred_answers,file)"
      ],
      "execution_count": 22,
      "outputs": []
    },
    {
      "cell_type": "code",
      "metadata": {
        "id": "aL8WcNlQBLjr",
        "colab_type": "code",
        "colab": {}
      },
      "source": [
        "def compute_bleu(answer,pred_answer):\n",
        "    return bleu.sentence_bleu([answer.split()],pred_answer.split())"
      ],
      "execution_count": 23,
      "outputs": []
    },
    {
      "cell_type": "code",
      "metadata": {
        "id": "4R52YMebFVol",
        "colab_type": "code",
        "colab": {}
      },
      "source": [
        "def get_bleu(y,y_pred):\n",
        "    ''' Returns Bleu score for every true and predicted answer '''\n",
        "    bleus = []\n",
        "    print(\"Computing Bleu Scores ...\")\n",
        "    for i,j in tqdm(zip(y,y_pred)):\n",
        "\n",
        "        #Removing start and end token if present\n",
        "        i = remove_tokens(i)\n",
        "          \n",
        "        bleus.append(compute_bleu(i,j))\n",
        "    return bleus"
      ],
      "execution_count": 24,
      "outputs": []
    },
    {
      "cell_type": "code",
      "metadata": {
        "id": "hBvBV8ftxkVo",
        "colab_type": "code",
        "colab": {}
      },
      "source": [
        "def qa_pairs(questions,pred_answers,answers,n,flag='high'):\n",
        "\n",
        "    ''' Returns 'n' question/answer pairs having \n",
        "        highest/lowest bleu scores if flag=high/low respectively '''\n",
        "\n",
        "    bleus = []\n",
        "    print(\"Computing Bleu Scores ...\")\n",
        "    for i in tqdm(range(len(questions))):\n",
        "\n",
        "        #Removing start and end token if present\n",
        "        questions[i] = remove_tokens(questions[i])\n",
        "        answers[i] = remove_tokens(answers[i])\n",
        "        pred_answers[i] = remove_tokens(pred_answers[i])\n",
        "      \n",
        "        bleus.append(compute_bleu(answers[i],pred_answers[i]))\n",
        "    print(len(bleus))\n",
        "    #Creating 'pred_answers'/'answers' pair using dictionary.\n",
        "    ans_pairs = tuple(zip(pred_answers,answers))\n",
        "\n",
        "    #Creating 'questions'/'ans_pairs' pair using dictionary.\n",
        "    qa_pairs  = tuple(zip(questions,ans_pairs))\n",
        "\n",
        "    #Creating 'bleus'/'qa_pairs' using dictionary.\n",
        "    bleu_qa_pairs  = tuple(zip(bleus,qa_pairs))\n",
        "\n",
        "    if flag == 'high':\n",
        "        bleu_qa_pairs = sorted(bleu_qa_pairs,key=lambda x: x[0],reverse=True)\n",
        "    elif flag =='low':\n",
        "        bleu_qa_pairs = sorted(bleu_qa_pairs,key=lambda x: x[0])\n",
        "\n",
        "    return bleu_qa_pairs[:n]"
      ],
      "execution_count": 25,
      "outputs": []
    },
    {
      "cell_type": "markdown",
      "metadata": {
        "id": "E-MWiObc4G1A",
        "colab_type": "text"
      },
      "source": [
        "### Question/Answer Pairs with Highest Bleu Score"
      ]
    },
    {
      "cell_type": "code",
      "metadata": {
        "id": "qAWKC8obRDHS",
        "colab_type": "code",
        "colab": {
          "base_uri": "https://localhost:8080/",
          "height": 1000,
          "referenced_widgets": [
            "6f0339aafd654de5ab32e0f5ac615b3b",
            "c058865789a040b6b2bc816d99c63fed",
            "6def524cf3754b85916fcde8def72351",
            "df50df6056a74b0ab9fa8ec2a8c9f90c",
            "8a082ac9a9ae4f7aba632349cd4c9408",
            "599f0bdafbc9471880897d386a479fde",
            "fa1d5a61bd6442e2ae62397e74d73b38",
            "fe98048beadc4c9bb82d91ce0844da24"
          ]
        },
        "outputId": "f7ad49a7-48b3-4558-d393-c0c148ef3a2d"
      },
      "source": [
        "#Fetching n Datapoints having highest bleu score \n",
        "n = 10\n",
        "low_bleu_qa_pairs = qa_pairs(X_test['question'].values,pred_answers,answers_test,n,flag='high')\n",
        "for i in range(len(low_bleu_qa_pairs)):\n",
        "    print(\"Question --> \",low_bleu_qa_pairs[i][1][0])\n",
        "    print(\"Predicted Answer --> \",low_bleu_qa_pairs[i][1][1][0])\n",
        "    print(\"True Answer --> \",low_bleu_qa_pairs[i][1][1][1])\n",
        "    print(\"Bleu Score --> \",low_bleu_qa_pairs[i][0],\"\\n\")\n",
        "    print(\"=\"*80,\"\\n\")\n",
        "\n"
      ],
      "execution_count": 26,
      "outputs": [
        {
          "output_type": "stream",
          "text": [
            "Computing Bleu Scores ...\n"
          ],
          "name": "stdout"
        },
        {
          "output_type": "display_data",
          "data": {
            "application/vnd.jupyter.widget-view+json": {
              "model_id": "6f0339aafd654de5ab32e0f5ac615b3b",
              "version_minor": 0,
              "version_major": 2
            },
            "text/plain": [
              "HBox(children=(FloatProgress(value=0.0, max=25019.0), HTML(value='')))"
            ]
          },
          "metadata": {
            "tags": []
          }
        },
        {
          "output_type": "stream",
          "text": [
            "\n",
            "25019\n",
            "Question -->   are replacement o rings available from the manufacturer ? \n",
            "Predicted Answer -->  yes \n",
            "True Answer -->   yes \n",
            "Bleu Score -->  1.0 \n",
            "\n",
            "================================================================================ \n",
            "\n",
            "Question -->   will this fit the 5c ? \n",
            "Predicted Answer -->  no \n",
            "True Answer -->   no \n",
            "Bleu Score -->  1.0 \n",
            "\n",
            "================================================================================ \n",
            "\n",
            "Question -->   will it work for a samsung galaxy s5 on boost mobile ? \n",
            "Predicted Answer -->  no \n",
            "True Answer -->   no \n",
            "Bleu Score -->  1.0 \n",
            "\n",
            "================================================================================ \n",
            "\n",
            "Question -->   does the keyboard have a back light ? \n",
            "Predicted Answer -->  no \n",
            "True Answer -->   no \n",
            "Bleu Score -->  1.0 \n",
            "\n",
            "================================================================================ \n",
            "\n",
            "Question -->   does it come with a belt clip ? \n",
            "Predicted Answer -->  yes \n",
            "True Answer -->   yes \n",
            "Bleu Score -->  1.0 \n",
            "\n",
            "================================================================================ \n",
            "\n",
            "Question -->   i have a 2004 audi a4 avant quattro . will this fit it ? \n",
            "Predicted Answer -->  yes \n",
            "True Answer -->   yes \n",
            "Bleu Score -->  1.0 \n",
            "\n",
            "================================================================================ \n",
            "\n",
            "Question -->   is this an original jaguar part \n",
            "Predicted Answer -->  no \n",
            "True Answer -->   no \n",
            "Bleu Score -->  1.0 \n",
            "\n",
            "================================================================================ \n",
            "\n",
            "Question -->   do these come with gloves ? \n",
            "Predicted Answer -->  no \n",
            "True Answer -->   no \n",
            "Bleu Score -->  1.0 \n",
            "\n",
            "================================================================================ \n",
            "\n",
            "Question -->   do they fit a 2002 corolla ? \n",
            "Predicted Answer -->  yes \n",
            "True Answer -->   yes \n",
            "Bleu Score -->  1.0 \n",
            "\n",
            "================================================================================ \n",
            "\n",
            "Question -->   is this black edition ? \n",
            "Predicted Answer -->  no \n",
            "True Answer -->   no \n",
            "Bleu Score -->  1.0 \n",
            "\n",
            "================================================================================ \n",
            "\n"
          ],
          "name": "stdout"
        }
      ]
    },
    {
      "cell_type": "markdown",
      "metadata": {
        "id": "Gbl4BYZe4Pa3",
        "colab_type": "text"
      },
      "source": [
        "### Question/Answer Pair with Lowest Bleu Score"
      ]
    },
    {
      "cell_type": "code",
      "metadata": {
        "id": "ej11QZYu4EW0",
        "colab_type": "code",
        "colab": {
          "base_uri": "https://localhost:8080/",
          "height": 1000,
          "referenced_widgets": [
            "40bd54d114254269810397b0ff541723",
            "2974a98a9a7642d985f64a77e306d328",
            "18ad9d8e55ff4a97bad5501744a837e6",
            "1d62cc4872634e6a8ec49ed6fe1da6ba",
            "72735e67c88c4e12bd9a5da14fc15888",
            "2c04f8d3ca2d4c03bc875130fb3b1edb",
            "8b39addda0bf4d5daba1cb57df8bf69a",
            "a4f8b265148c4b3c988b7a22c298db57"
          ]
        },
        "outputId": "ebfc24ad-fa02-4ed5-f72f-93818be0808d"
      },
      "source": [
        "#Fetching n Datapoints having lowest bleu score \n",
        "n = 10\n",
        "low_bleu_qa_pairs = qa_pairs(X_test['question'].values,pred_answers,answers_test,n,flag='low')\n",
        "for i in range(len(low_bleu_qa_pairs)):\n",
        "    print(\"Question --> \",low_bleu_qa_pairs[i][1][0])\n",
        "    print(\"Predicted Answer --> \",low_bleu_qa_pairs[i][1][1][0])\n",
        "    print(\"True Answer --> \",low_bleu_qa_pairs[i][1][1][1])\n",
        "    print(\"Bleu Score --> \",low_bleu_qa_pairs[i][0],\"\\n\")\n",
        "    print(\"=\"*80,\"\\n\")"
      ],
      "execution_count": 27,
      "outputs": [
        {
          "output_type": "stream",
          "text": [
            "Computing Bleu Scores ...\n"
          ],
          "name": "stdout"
        },
        {
          "output_type": "display_data",
          "data": {
            "application/vnd.jupyter.widget-view+json": {
              "model_id": "40bd54d114254269810397b0ff541723",
              "version_minor": 0,
              "version_major": 2
            },
            "text/plain": [
              "HBox(children=(FloatProgress(value=0.0, max=25019.0), HTML(value='')))"
            ]
          },
          "metadata": {
            "tags": []
          }
        },
        {
          "output_type": "stream",
          "text": [
            "\n",
            "25019\n",
            "Question -->   i have kindle 1st and 2nd generation will this fit this ? \n",
            "Predicted Answer -->  i have a 2013 macbook pro . it is a great case . \n",
            "True Answer -->   yes \n",
            "Bleu Score -->  0 \n",
            "\n",
            "================================================================================ \n",
            "\n",
            "Question -->   is the case metal or plastic ? \n",
            "Predicted Answer -->  the barrels is metal . \n",
            "True Answer -->   plastic \n",
            "Bleu Score -->  0 \n",
            "\n",
            "================================================================================ \n",
            "\n",
            "Question -->   will this fit a 95 softail with mikuni carb ? i know i would need to buy the carb adaper concern is the head breathers not working due to the adapter \n",
            "Predicted Answer -->  no \n",
            "True Answer -->   do not buy this it is junk very poor quality ! not worth it ! ! ! ! ! \n",
            "Bleu Score -->  0 \n",
            "\n",
            "================================================================================ \n",
            "\n",
            "Question -->   wii \n",
            "Predicted Answer -->  yes \n",
            "True Answer -->   there is another question on this system . if it can not read disks as happened to keith moss it can not work . if it can still read disks it can . \n",
            "Bleu Score -->  0 \n",
            "\n",
            "================================================================================ \n",
            "\n",
            "Question -->   has anyone tried these on a 2015 f 150 ? thanks ! \n",
            "Predicted Answer -->  yes \n",
            "True Answer -->   my 2015 ford f 150 xlt has completely redesigned mirrors and yours appear very much like the 2912 2013 style . i have researched extensively for extension mirrors for the 2015 ford trucks . thus far , the truck is too new for such products . it will take about 1 year for such items to appear . tm oregon \n",
            "Bleu Score -->  0 \n",
            "\n",
            "================================================================================ \n",
            "\n",
            "Question -->   will any of these fit a 2013 chev avalanch bow tie emblems \n",
            "Predicted Answer -->  yes \n",
            "True Answer -->   it should . fit perfect on my 07 tahoe . \n",
            "Bleu Score -->  0 \n",
            "\n",
            "================================================================================ \n",
            "\n",
            "Question -->   would the boss audio kit2 8 guage amplifier instillation kit that amazon sells for 11 dollars work as the speaker wire and amp kit ? \n",
            "Predicted Answer -->  yes \n",
            "True Answer -->   i am sure it would . however , i suggest you go with a higher quality amp kit . the boss 8 gauge kit will be cutting it close and it might cause heat issues . go with a higher quality kit , such as knu konceptz , and make it a safe setup in your vehicle . \n",
            "Bleu Score -->  0 \n",
            "\n",
            "================================================================================ \n",
            "\n",
            "Question -->   does this work with a canon 50d has buttons along the bottom of lcd ? i think it would interfere with the buttons probably . \n",
            "Predicted Answer -->  i have a canon 6d and it works great . \n",
            "True Answer -->   very good \n",
            "Bleu Score -->  0 \n",
            "\n",
            "================================================================================ \n",
            "\n",
            "Question -->   the product is sold as a one unit or a pair of speakers ? \n",
            "Predicted Answer -->  the pair is not included . \n",
            "True Answer -->   single unit \n",
            "Bleu Score -->  0 \n",
            "\n",
            "================================================================================ \n",
            "\n",
            "Question -->   can you purchase on the front floor mats ? if so , price ? \n",
            "Predicted Answer -->  yes , they are the same . \n",
            "True Answer -->   sorry you can only buy them in a set of four \n",
            "Bleu Score -->  0 \n",
            "\n",
            "================================================================================ \n",
            "\n"
          ],
          "name": "stdout"
        }
      ]
    },
    {
      "cell_type": "markdown",
      "metadata": {
        "id": "RuE0y2Qk445Y",
        "colab_type": "text"
      },
      "source": [
        "### Analysis"
      ]
    },
    {
      "cell_type": "code",
      "metadata": {
        "id": "yRrn4NBbF8ly",
        "colab_type": "code",
        "colab": {
          "base_uri": "https://localhost:8080/",
          "height": 81,
          "referenced_widgets": [
            "95a0a52a37e04e5fafb0271958c456c8",
            "a538c379ffc84794a8d3d03f8929ed59",
            "68d8eb97b73c4827a37f87c076f1e450",
            "36450e95c8a445fab88c9ef44ea8b7d4",
            "15139ab91fba4d8b99ab7fe738996704",
            "ec90a8233a1b4b29b621b7eb4d23e092",
            "822449a3104d4e0da0ee72a44cc0fef3",
            "52aca573072d44ba9cc2e7a84c6d8a61"
          ]
        },
        "outputId": "f295636f-adb2-4cb2-e03b-e6f2733f0ec5"
      },
      "source": [
        "#Adding predicted answers to dataframe\n",
        "X_test['pred_answers'] = pred_answers\n",
        "X_test['answer'] = answers_test\n",
        "#Getting Bleu Scores\n",
        "bleus = get_bleu(X_test['answer'],X_test['pred_answers'])\n",
        "\n",
        "#Adding bleu score to dataframe\n",
        "X_test['bleu'] = bleus"
      ],
      "execution_count": 28,
      "outputs": [
        {
          "output_type": "stream",
          "text": [
            "Computing Bleu Scores ...\n"
          ],
          "name": "stdout"
        },
        {
          "output_type": "display_data",
          "data": {
            "application/vnd.jupyter.widget-view+json": {
              "model_id": "95a0a52a37e04e5fafb0271958c456c8",
              "version_minor": 0,
              "version_major": 2
            },
            "text/plain": [
              "HBox(children=(FloatProgress(value=1.0, bar_style='info', max=1.0), HTML(value='')))"
            ]
          },
          "metadata": {
            "tags": []
          }
        },
        {
          "output_type": "stream",
          "text": [
            "\n"
          ],
          "name": "stdout"
        }
      ]
    },
    {
      "cell_type": "markdown",
      "metadata": {
        "id": "qT1Wrf7kIvx5",
        "colab_type": "text"
      },
      "source": [
        "Considering 0.65 and above Bleu scores as good predictions. "
      ]
    },
    {
      "cell_type": "code",
      "metadata": {
        "id": "qG53v55qTMOG",
        "colab_type": "code",
        "colab": {
          "base_uri": "https://localhost:8080/",
          "height": 50
        },
        "outputId": "fbb18266-b81f-4149-e318-739719c95cfb"
      },
      "source": [
        "good_pred = X_test[X_test.bleu >= 0.65]\n",
        "p= len(good_pred)*100/len(X_test)\n",
        "print(\"No. of Good Predictions --> \",len(good_pred),'  %.2f'%p,'%')\n",
        "bad_pred = X_test[X_test.bleu < 0.65]\n",
        "p= len(bad_pred)*100/len(X_test)\n",
        "print(\"No. of Bad Predictions --> \",len(bad_pred),'  %.2f'%p,'%')"
      ],
      "execution_count": 29,
      "outputs": [
        {
          "output_type": "stream",
          "text": [
            "No. of Good Predictions -->  1945   7.77 %\n",
            "No. of Bad Predictions -->  23074   92.23 %\n"
          ],
          "name": "stdout"
        }
      ]
    },
    {
      "cell_type": "markdown",
      "metadata": {
        "id": "HJI0nPIrJewX",
        "colab_type": "text"
      },
      "source": [
        "#### Predictions By Question Type"
      ]
    },
    {
      "cell_type": "code",
      "metadata": {
        "id": "Ik4CgZXKI2XO",
        "colab_type": "code",
        "colab": {
          "base_uri": "https://localhost:8080/",
          "height": 295
        },
        "outputId": "3fb8d8a4-29f5-44f5-e0c2-49ac598c81e9"
      },
      "source": [
        "#Fetching unique value counts for Good predictions\n",
        "x = good_pred.questionType.value_counts()\n",
        "plt.subplot(1, 3, 1)\n",
        "\n",
        "#Plotting No. of questions Vs questionType\n",
        "plt.bar(x.index, x.values)\n",
        "plt.title('Good Predictions (>= 0.65 Bleu Score)')\n",
        "plt.xlabel('No. of Questions')\n",
        "plt.ylabel('Question Type')\n",
        "\n",
        "#Fetching unique value counts for Bad predictions\n",
        "x = bad_pred.questionType.value_counts()\n",
        "plt.subplot(1, 3, 3)\n",
        "\n",
        "#Plotting No. of questions Vs questionType\n",
        "plt.bar(x.index, x.values)\n",
        "plt.title('Bad Predictions (< 0.65 Bleu Score)')\n",
        "plt.xlabel('No. of Questions')\n",
        "plt.ylabel('Question Type')\n",
        "\n",
        "plt.show()"
      ],
      "execution_count": 30,
      "outputs": [
        {
          "output_type": "display_data",
          "data": {
            "image/png": "[encoded data removed]",
            "text/plain": [
              "<Figure size 432x288 with 2 Axes>"
            ]
          },
          "metadata": {
            "tags": [],
            "needs_background": "light"
          }
        }
      ]
    },
    {
      "cell_type": "markdown",
      "metadata": {
        "id": "O84Cf_jznLx_",
        "colab_type": "text"
      },
      "source": [
        "* The model correctly predicts answers for more yes/no type of questions than Open ended questions.\n"
      ]
    },
    {
      "cell_type": "markdown",
      "metadata": {
        "id": "PyD04G1cKjWx",
        "colab_type": "text"
      },
      "source": [
        "#### Predictions by Question Word Count"
      ]
    },
    {
      "cell_type": "code",
      "metadata": {
        "id": "VjIpO0Y2KZ7T",
        "colab_type": "code",
        "colab": {
          "base_uri": "https://localhost:8080/",
          "height": 278
        },
        "outputId": "79a473b8-8ac4-4f55-95a0-dfd0ae5ec46f"
      },
      "source": [
        "# Histogram of Question Word Count for Good predicitons\n",
        "plt.subplot(1, 3, 1)\n",
        "#storing word count of each question\n",
        "q_len = []\n",
        "for question in good_pred['question']:\n",
        "    q_len.append(len(question.split()))\n",
        "\n",
        "#Plotting Histogram\n",
        "plt.hist(q_len)\n",
        "plt.title(\"Question Word Count (Good Predictions)\",fontsize=11)\n",
        "\n",
        "\n",
        "# Histogram of Question Word Count for Bad predicitons\n",
        "plt.subplot(1, 3, 3)\n",
        "#storing word count of each question\n",
        "q_len = []\n",
        "for question in bad_pred['question']:\n",
        "    q_len.append(len(question.split()))\n",
        "\n",
        "#Plotting Histogram\n",
        "plt.hist(q_len)\n",
        "plt.title(\"Question Word Count (Bad Predictions)\",fontsize=11)\n",
        "\n",
        "plt.show()"
      ],
      "execution_count": 31,
      "outputs": [
        {
          "output_type": "display_data",
          "data": {
            "image/png": "[encoded data removed]",
            "text/plain": [
              "<Figure size 432x288 with 2 Axes>"
            ]
          },
          "metadata": {
            "tags": [],
            "needs_background": "light"
          }
        }
      ]
    },
    {
      "cell_type": "markdown",
      "metadata": {
        "id": "NOGVIW1xpIxN",
        "colab_type": "text"
      },
      "source": [
        "* Model mostly predicts correctly for questions having word count around 10. "
      ]
    },
    {
      "cell_type": "markdown",
      "metadata": {
        "id": "qzs_k0zFLN0s",
        "colab_type": "text"
      },
      "source": [
        "#### Predictions by Answer Type"
      ]
    },
    {
      "cell_type": "code",
      "metadata": {
        "id": "LxsYKC-ELZkN",
        "colab_type": "code",
        "colab": {
          "base_uri": "https://localhost:8080/",
          "height": 295
        },
        "outputId": "5a5c48dd-4fad-498c-aa1a-76bca05ba472"
      },
      "source": [
        "plt.subplot(1, 3, 1)\n",
        "#Fetching unique value counts for Good predictions\n",
        "x = good_pred.answerType.value_counts()\n",
        "\n",
        "#Plotting No. of questions Vs questionType\n",
        "plt.bar(x.index, x.values)\n",
        "plt.title('Good Predictions (>= 0.75 Bleu Score)')\n",
        "plt.xlabel('No. of Answers')\n",
        "plt.ylabel('Answer Type')\n",
        "\n",
        "\n",
        "plt.subplot(1, 3, 3)\n",
        "#Fetching unique value counts for Bad predictions\n",
        "x = bad_pred.answerType.value_counts()\n",
        "\n",
        "#Plotting No. of questions Vs questionType\n",
        "plt.bar(x.index, x.values)\n",
        "plt.title('Bad Predictions (< 0.75 Bleu Score)')\n",
        "plt.xlabel('No. of Answers')\n",
        "plt.ylabel('Answer Type')\n",
        "\n",
        "plt.show()"
      ],
      "execution_count": 32,
      "outputs": [
        {
          "output_type": "display_data",
          "data": {
            "image/png": "[encoded data removed]",
            "text/plain": [
              "<Figure size 432x288 with 2 Axes>"
            ]
          },
          "metadata": {
            "tags": [],
            "needs_background": "light"
          }
        }
      ]
    },
    {
      "cell_type": "markdown",
      "metadata": {
        "id": "S9ftSD0lqWCO",
        "colab_type": "text"
      },
      "source": [
        "* Model predicts correctly more for yes type of answers.\n"
      ]
    },
    {
      "cell_type": "markdown",
      "metadata": {
        "id": "md6G8y05LjzT",
        "colab_type": "text"
      },
      "source": [
        "#### Predictions by Answer Word Count"
      ]
    },
    {
      "cell_type": "code",
      "metadata": {
        "id": "S2dW93w4LjP3",
        "colab_type": "code",
        "colab": {
          "base_uri": "https://localhost:8080/",
          "height": 278
        },
        "outputId": "0350184f-f624-442a-dad7-bf6a3933881c"
      },
      "source": [
        "#plt.xlim(0,300)\n",
        "#plt.xticks(range(0,350,10))\n",
        "\n",
        "# Histogram of Answer Word Count for Good predicitons\n",
        "plt.subplot(1, 3, 1)\n",
        "#storing word count of each question\n",
        "a_len = []\n",
        "for question in good_pred['answer']:\n",
        "    a_len.append(len(question.split()))\n",
        "#Plotting Histogram\n",
        "plt.hist(a_len)\n",
        "plt.title(\"Answer Word Count (Good Predictions)\",fontsize=11)\n",
        "\n",
        "\n",
        "# Histogram of Question Word Count for Bad predicitons\n",
        "plt.subplot(1, 3, 3)\n",
        "#storing word count of each question\n",
        "a_len = []\n",
        "for question in bad_pred['answer']:\n",
        "    a_len.append(len(question.split()))\n",
        "#Plotting Histogram\n",
        "plt.hist(a_len)\n",
        "plt.title(\"Answer Word Count (Bad Predictions)\",fontsize=11)\n",
        "\n",
        "plt.show()"
      ],
      "execution_count": 33,
      "outputs": [
        {
          "output_type": "display_data",
          "data": {
            "image/png": "[encoded data removed]",
            "text/plain": [
              "<Figure size 432x288 with 2 Axes>"
            ]
          },
          "metadata": {
            "tags": [],
            "needs_background": "light"
          }
        }
      ]
    },
    {
      "cell_type": "markdown",
      "metadata": {
        "id": "j-KJZ96RsCI6",
        "colab_type": "text"
      },
      "source": [
        "* More Short answers (i.e. less than 10 words) are correctly predicted by the model as compared to long answers."
      ]
    },
    {
      "cell_type": "markdown",
      "metadata": {
        "id": "Rvygt0PhMGjZ",
        "colab_type": "text"
      },
      "source": [
        "#### Predictions by Product Category"
      ]
    },
    {
      "cell_type": "code",
      "metadata": {
        "id": "8bJhRC3YMjQA",
        "colab_type": "code",
        "colab": {
          "base_uri": "https://localhost:8080/",
          "height": 711
        },
        "outputId": "7a2b317b-1fcf-4bb5-f1a7-f6944a79ffb9"
      },
      "source": [
        "#Fetching unique value counts\n",
        "x = good_pred.category.value_counts()\n",
        "#Plotting No. of questions Vs questionType\n",
        "plt.bar(x.index, x.values)\n",
        "plt.xticks(rotation=30)\n",
        "plt.title('Good Predictions (>= 0.75 Bleu Score)')\n",
        "plt.xlabel('No. of Questions')\n",
        "plt.ylabel('Product Category')\n",
        "plt.show()\n",
        "\n",
        "#Fetching unique value counts\n",
        "x = bad_pred.category.value_counts()\n",
        "#Plotting No. of questions Vs questionType\n",
        "plt.bar(x.index, x.values)\n",
        "plt.xticks(rotation=30)\n",
        "plt.title('Bad Predictions (< 0.75 Bleu Score)')\n",
        "plt.xlabel('No. of Questions')\n",
        "plt.ylabel('Product Category')\n",
        "\n",
        "plt.show()"
      ],
      "execution_count": 34,
      "outputs": [
        {
          "output_type": "display_data",
          "data": {
            "image/png": "[encoded data removed]",
            "text/plain": [
              "<Figure size 432x288 with 1 Axes>"
            ]
          },
          "metadata": {
            "tags": [],
            "needs_background": "light"
          }
        },
        {
          "output_type": "display_data",
          "data": {
            "image/png": "[encoded data removed]",
            "text/plain": [
              "<Figure size 432x288 with 1 Axes>"
            ]
          },
          "metadata": {
            "tags": [],
            "needs_background": "light"
          }
        }
      ]
    },
    {
      "cell_type": "markdown",
      "metadata": {
        "id": "LrYdoVHmuZo1",
        "colab_type": "text"
      },
      "source": [
        "* Product category does not tell much about good or bad predictions."
      ]
    },
    {
      "cell_type": "markdown",
      "metadata": {
        "id": "7ACphsCwNFDV",
        "colab_type": "text"
      },
      "source": [
        "#### Predictions by Product's Main Category"
      ]
    },
    {
      "cell_type": "code",
      "metadata": {
        "id": "e3qAv-DUNDXt",
        "colab_type": "code",
        "colab": {
          "base_uri": "https://localhost:8080/",
          "height": 921
        },
        "outputId": "a56d70c4-5f66-402a-b31f-ad85abe3e72d"
      },
      "source": [
        "#Fetching unique value counts\n",
        "x = good_pred.main_cat.value_counts()\n",
        "plt.figure(figsize=(8,5))\n",
        "#Plotting No. of questions Vs questionType\n",
        "plt.bar(x.index, x.values)\n",
        "plt.xticks(rotation=70)\n",
        "plt.title('Good Predictions (>= 0.75 Bleu Score)')\n",
        "plt.xlabel('No. of Questions')\n",
        "plt.ylabel('Product\\'s Main Category')\n",
        "\n",
        "\n",
        "#Fetching unique value counts\n",
        "x = bad_pred.main_cat.value_counts()\n",
        "plt.figure(figsize=(8,5))\n",
        "#Plotting No. of questions Vs questionType\n",
        "plt.bar(x.index, x.values)\n",
        "plt.xticks(rotation=70)\n",
        "plt.title('Bad Predictions (< 0.75 Bleu Score)')\n",
        "plt.xlabel('No. of Questions')\n",
        "plt.ylabel('Product\\'s Main Category')\n",
        "plt.show()"
      ],
      "execution_count": 35,
      "outputs": [
        {
          "output_type": "display_data",
          "data": {
            "image/png": "[encoded data removed]",
            "text/plain": [
              "<Figure size 576x360 with 1 Axes>"
            ]
          },
          "metadata": {
            "tags": [],
            "needs_background": "light"
          }
        },
        {
          "output_type": "display_data",
          "data": {
            "image/png": "[encoded data removed]",
            "text/plain": [
              "<Figure size 576x360 with 1 Axes>"
            ]
          },
          "metadata": {
            "tags": [],
            "needs_background": "light"
          }
        }
      ]
    },
    {
      "cell_type": "markdown",
      "metadata": {
        "id": "gAJnE1Y_wyag",
        "colab_type": "text"
      },
      "source": [
        "* Product's main category does not tell much about good or bad predictions."
      ]
    },
    {
      "cell_type": "markdown",
      "metadata": {
        "id": "PZTE7PGX9dVz",
        "colab_type": "text"
      },
      "source": [
        "###Summary :\n",
        "\n",
        "* The Model Predicts better for Yes/No type of questions rather than open-ended questions. \n",
        "* Short Answers having word count less than 10 words are more often correctly predcited by the model as compared to long answers.\n",
        "* Good Predictions also have more no. of questions which have yes as answer instead of any other answer type.\n",
        "* Good or Bad Predictions does not depend on product category.\n",
        "\n",
        "**Note:**\n",
        "* Predictions having BLEU score of >=0.65 are considered as Good /Correct Predictions.\n",
        "* Predictions having BLEU score of <0.65 are considered as Bad Predictions."
      ]
    }
  ]
}